{
 "cells": [
  {
   "cell_type": "code",
   "execution_count": 2,
   "metadata": {},
   "outputs": [],
   "source": [
    "import pandas as pd\n",
    "import numpy as np\n",
    "import math\n",
    "\n",
    "pd.set_option('display.max_columns', None)\n",
    "import warnings\n",
    "warnings.filterwarnings('ignore')\n",
    "import matplotlib.pyplot as plt\n",
    "import seaborn as sns \n",
    "from scipy import stats"
   ]
  },
  {
   "cell_type": "markdown",
   "metadata": {},
   "source": [
    "Hypothesis testing\n",
    "We want to test if our the sample mean is not equal to the population mean = 80.94. We also know that our sample has a size of 25 individuals.\n",
    "\n",
    "$t = \\frac{(\\bar{X}-\\mu_{0})}{\\hat{\\sigma}/\\sqrt{n}}$\n",
    "\n",
    "where:\n",
    "\n",
    "$\\bar{X}$ is the sample mean\n",
    "\n",
    "$\\mu_{0}$ is the population mean\n",
    "\n",
    "$\\hat{\\sigma}$ is the sample standard deviation\n",
    "\n",
    "$n$ is the number of measures in our sample"
   ]
  },
  {
   "cell_type": "code",
   "execution_count": null,
   "metadata": {},
   "outputs": [],
   "source": []
  },
  {
   "cell_type": "markdown",
   "metadata": {},
   "source": [
    "It is assumed that the mean systolic blood pressure is μ = 120 mm Hg. In the Honolulu Heart Study, a sample of n = 100 people had an average systolic blood pressure of 130.1 mm Hg with a standard deviation of 21.21 mm Hg. \n",
    "\n",
    "### Is the group significantly different (with respect to systolic blood pressure!) from the regular population?\n",
    "\n",
    "Set up the hypothesis test.\n",
    "\n",
    "Write down all the steps followed for setting up the test.\n",
    "\n",
    "Calculate the test statistic by hand and also code it in Python. It should be 4.76190. We will take a look at how to make decisions based on this calculated value.\n"
   ]
  },
  {
   "cell_type": "code",
   "execution_count": 4,
   "metadata": {},
   "outputs": [
    {
     "name": "stdout",
     "output_type": "stream",
     "text": [
      "Statistic is:  4.761904761904759\n"
     ]
    }
   ],
   "source": [
    "# Calculating T statistic for one sample t test\n",
    "\n",
    "# H0 = The group is not significantly different.\n",
    "# H1 = Alternative hypothesis= The group is significantly different\n",
    "\n",
    "\n",
    "sample_mean = 130.1\n",
    "pop_mean = 120\n",
    "sample_std = 21.21\n",
    "n = 100\n",
    "\n",
    "statistic = (sample_mean - pop_mean)/(sample_std/math.sqrt(n))\n",
    "print(\"Statistic is: \", statistic)"
   ]
  },
  {
   "cell_type": "code",
   "execution_count": null,
   "metadata": {},
   "outputs": [],
   "source": [
    "# Using the standard normal distribution table https://www.math.arizona.edu/~rsims/ma464/standardnormaltable.pdf\n",
    "# Looking up 1- 0.05 = 0.975 We get the value 1.96, which is way below the t value of 4.762. \n",
    "#Therefore the group is significantly different from the general population.\n",
    "\n",
    "# With a result less than 1.96 we would assume that the group\n"
   ]
  },
  {
   "cell_type": "code",
   "execution_count": null,
   "metadata": {},
   "outputs": [],
   "source": []
  },
  {
   "cell_type": "code",
   "execution_count": null,
   "metadata": {},
   "outputs": [],
   "source": [
    "# Now to find the critical value with some cool python stuff."
   ]
  },
  {
   "cell_type": "markdown",
   "metadata": {},
   "source": [
    "\n",
    "<math xmlns=\"http://www.w3.org/1998/Math/MathML\">\n",
    "  <mn>2</mn>\n",
    "  <mo>&#xD7;</mo>\n",
    "  <mi>P</mi>\n",
    "  <mo stretchy=\"false\">(</mo>\n",
    "  <msub>\n",
    "    <mi>T</mi>\n",
    "    <mrow>\n",
    "      <mn>99</mn>\n",
    "    </mrow>\n",
    "  </msub>\n",
    "  <mo>&gt;</mo>\n",
    "  <mn>4.762</mn>\n",
    "  <mo stretchy=\"false\">)</mo>\n",
    "  <mo>&lt;</mo>\n",
    "  <mn>2</mn>\n",
    "  <mo>&#xD7;</mo>\n",
    "  <mi>P</mi>\n",
    "  <mo stretchy=\"false\">(</mo>\n",
    "  <msub>\n",
    "    <mi>T</mi>\n",
    "    <mrow>\n",
    "      <mn>99</mn>\n",
    "    </mrow>\n",
    "  </msub>\n",
    "  <mo>&gt;</mo>\n",
    "  <mn>1.9842</mn>\n",
    "  <mo stretchy=\"false\">)</mo>\n",
    "  <mo>=</mo>\n",
    "  <mn>2</mn>\n",
    "  <mo stretchy=\"false\">(</mo>\n",
    "  <mn>0.025</mn>\n",
    "  <mo stretchy=\"false\">)</mo>\n",
    "  <mo>=</mo>\n",
    "  <mn>0.05</mn>\n",
    "</math>"
   ]
  },
  {
   "cell_type": "code",
   "execution_count": 8,
   "metadata": {},
   "outputs": [
    {
     "name": "stdout",
     "output_type": "stream",
     "text": [
      "Critical Value of z is:  -1.9842169515086832\n"
     ]
    }
   ],
   "source": [
    "from scipy.stats import t\n",
    "\n",
    "print(\"Critical Value of z is: \", t.ppf(0.025, n)) #alpha is 0.05"
   ]
  },
  {
   "cell_type": "code",
   "execution_count": null,
   "metadata": {},
   "outputs": [],
   "source": []
  },
  {
   "cell_type": "code",
   "execution_count": null,
   "metadata": {},
   "outputs": [],
   "source": []
  },
  {
   "cell_type": "code",
   "execution_count": null,
   "metadata": {},
   "outputs": [],
   "source": []
  },
  {
   "cell_type": "code",
   "execution_count": null,
   "metadata": {},
   "outputs": [],
   "source": []
  }
 ],
 "metadata": {
  "kernelspec": {
   "display_name": "Python 3",
   "language": "python",
   "name": "python3"
  },
  "language_info": {
   "codemirror_mode": {
    "name": "ipython",
    "version": 3
   },
   "file_extension": ".py",
   "mimetype": "text/x-python",
   "name": "python",
   "nbconvert_exporter": "python",
   "pygments_lexer": "ipython3",
   "version": "3.7.6"
  }
 },
 "nbformat": 4,
 "nbformat_minor": 4
}
